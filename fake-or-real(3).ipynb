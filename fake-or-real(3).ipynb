{
 "cells": [
  {
   "cell_type": "markdown",
   "id": "5aecac65",
   "metadata": {},
   "source": [
    "Ансамбль двух моделей : предсказывающей настоящесть текста + предсказывающей какой из двух настоящий"
   ]
  },
  {
   "cell_type": "code",
   "execution_count": 15,
   "id": "5d7d43a1",
   "metadata": {},
   "outputs": [],
   "source": [
    "import pandas as pd\n",
    "import numpy as np"
   ]
  },
  {
   "cell_type": "code",
   "execution_count": 16,
   "id": "6520f57b",
   "metadata": {},
   "outputs": [],
   "source": [
    "test_path = '/kaggle/input/fake-or-real-the-impostor-hunt/data/test'\n",
    "train_path = '/kaggle/input/fake-or-real-the-impostor-hunt/data/train'\n",
    "train_marks = '/kaggle/input/fake-or-real-the-impostor-hunt/data/train.csv'"
   ]
  },
  {
   "cell_type": "code",
   "execution_count": 17,
   "id": "d30ae22a",
   "metadata": {},
   "outputs": [],
   "source": [
    "# Код извлекающий тексты и создающий словарь {текст: метка(1 - real, 0 - fake)}\n",
    "from pathlib import Path\n",
    "\n",
    "data_dir = Path(train_path)\n",
    "all_data = {}\n",
    "\n",
    "for txt_file in data_dir.rglob(\"*.txt\"):\n",
    "    text_path = str(txt_file)\n",
    "    # Вычленение из пути файла номера папки в которой хранится файл и номера текста (1 или 2)\n",
    "    # Пример text_path : /kaggle/input/fake-or-real-the-impostor-hunt/data/train/article_0026/file_2.txt\n",
    "    folder_num = int(text_path[text_path.find('article_') + 8 : text_path.find('article_') + 12])\n",
    "    file_num = int(text_path[text_path.find('file_') + 5 : text_path.find('file_') + 6])\n",
    "\n",
    "    content = txt_file.read_text(encoding='utf-8')\n",
    "\n",
    "    all_data[(folder_num, file_num)] = content\n",
    "\n",
    "marks = pd.read_csv(train_marks, index_col='id')\n",
    "textes = {}\n",
    "\n",
    "# 1 - Real, 0 - Fake\n",
    "for (folder_num, text_num), text in all_data.items():\n",
    "    if marks.iloc[folder_num]['real_text_id'] == text_num:\n",
    "        textes[text] = 1\n",
    "    else:\n",
    "        textes[text] = 0\n",
    "\n",
    "all_data = {}\n",
    "\n",
    "for txt_file in data_dir.rglob(\"*.txt\"):\n",
    "    text_path = str(txt_file)\n",
    "    # Вычленение из пути файла номера папки в которой хранится файл и номера текста (1 или 2)\n",
    "    # Пример text_path : /kaggle/input/fake-or-real-the-impostor-hunt/data/train/article_0026/file_2.txt\n",
    "    folder_num = int(text_path[text_path.find('article_') + 8 : text_path.find('article_') + 12])\n",
    "    file_num = int(text_path[text_path.find('file_') + 5 : text_path.find('file_') + 6])\n",
    "\n",
    "    content = txt_file.read_text(encoding='utf-8')\n",
    "\n",
    "    if folder_num in all_data:\n",
    "        all_data[folder_num][file_num] = content\n",
    "    else:\n",
    "        all_data[folder_num] = {file_num : content}\n"
   ]
  },
  {
   "cell_type": "code",
   "execution_count": 18,
   "id": "f28c08ec",
   "metadata": {},
   "outputs": [
    {
     "name": "stdout",
     "output_type": "stream",
     "text": [
      "Используется GPU: Tesla T4\n"
     ]
    }
   ],
   "source": [
    "# Код прогоняющий все тексты через BERT для получения cls эмбеддинга\n",
    "# и создающий матрицы X для каждой модели в ансамбле\n",
    "\n",
    "from transformers import BertTokenizer, BertModel\n",
    "import torch\n",
    "\n",
    "if torch.cuda.is_available():\n",
    "    device = torch.device(\"cuda\")\n",
    "    print(f\"Используется GPU: {torch.cuda.get_device_name(0)}\")\n",
    "else:\n",
    "    device = torch.device(\"cpu\")\n",
    "    print(\"GPU не доступен, используется CPU\")\n",
    "\n",
    "model_name = 'bert-base-uncased'\n",
    "tokenizer = BertTokenizer.from_pretrained(model_name)\n",
    "bert_model = BertModel.from_pretrained(model_name).to(device)\n",
    "\n",
    "features_arr_1 = []\n",
    "features_arr_2 = []\n",
    "marks_vec_1 = []\n",
    "marks_vec_2 = []\n",
    "\n",
    "for folder_num, textes_dict in all_data.items():\n",
    "    text1 = textes_dict[1]\n",
    "    text2 = textes_dict[2]\n",
    "    \n",
    "    input1 = tokenizer(text1, return_tensors = 'pt', padding=True, truncation=True, max_length=512).to(device)\n",
    "    input2 = tokenizer(text2, return_tensors = 'pt', padding=True, truncation=True, max_length=512).to(device)\n",
    "\n",
    "    with torch.no_grad():\n",
    "        output1 = bert_model(**input1)\n",
    "        output2 = bert_model(**input2)\n",
    "\n",
    "    cls_emb1 = output1.last_hidden_state[0,0,:].cpu().numpy()\n",
    "    cls_emb2 = output2.last_hidden_state[0,0,:].cpu().numpy()\n",
    "\n",
    "    # Для формирования X первой модели\n",
    "    features_arr_1.append(cls_emb1)\n",
    "    features_arr_1.append(cls_emb2)\n",
    "    marks_vec_1.append(textes[text1])\n",
    "    marks_vec_1.append(textes[text2])\n",
    "\n",
    "    # Для формирования X второй модели\n",
    "    dif_feature = cls_emb1 - cls_emb2\n",
    "    \n",
    "    features_arr_2.append(dif_feature)\n",
    "    marks_vec_2.append(marks.iloc[folder_num])\n",
    "\n",
    "X1 = np.vstack(features_arr_1)\n",
    "y1 = np.array(marks_vec_1)\n",
    "\n",
    "X2 = np.vstack(features_arr_2)\n",
    "y2 = np.array(marks_vec_2)"
   ]
  },
  {
   "cell_type": "code",
   "execution_count": 19,
   "id": "ff168c0d",
   "metadata": {},
   "outputs": [
    {
     "name": "stderr",
     "output_type": "stream",
     "text": [
      "/tmp/ipykernel_78/2602048937.py:11: DataConversionWarning: A column-vector y was passed when a 1d array was expected. Please change the shape of y to (n_samples,), for example using ravel().\n",
      "  classifier_2.fit(X2,y2)\n"
     ]
    },
    {
     "data": {
      "text/html": [
       "<style>#sk-container-id-1 {color: black;background-color: white;}#sk-container-id-1 pre{padding: 0;}#sk-container-id-1 div.sk-toggleable {background-color: white;}#sk-container-id-1 label.sk-toggleable__label {cursor: pointer;display: block;width: 100%;margin-bottom: 0;padding: 0.3em;box-sizing: border-box;text-align: center;}#sk-container-id-1 label.sk-toggleable__label-arrow:before {content: \"▸\";float: left;margin-right: 0.25em;color: #696969;}#sk-container-id-1 label.sk-toggleable__label-arrow:hover:before {color: black;}#sk-container-id-1 div.sk-estimator:hover label.sk-toggleable__label-arrow:before {color: black;}#sk-container-id-1 div.sk-toggleable__content {max-height: 0;max-width: 0;overflow: hidden;text-align: left;background-color: #f0f8ff;}#sk-container-id-1 div.sk-toggleable__content pre {margin: 0.2em;color: black;border-radius: 0.25em;background-color: #f0f8ff;}#sk-container-id-1 input.sk-toggleable__control:checked~div.sk-toggleable__content {max-height: 200px;max-width: 100%;overflow: auto;}#sk-container-id-1 input.sk-toggleable__control:checked~label.sk-toggleable__label-arrow:before {content: \"▾\";}#sk-container-id-1 div.sk-estimator input.sk-toggleable__control:checked~label.sk-toggleable__label {background-color: #d4ebff;}#sk-container-id-1 div.sk-label input.sk-toggleable__control:checked~label.sk-toggleable__label {background-color: #d4ebff;}#sk-container-id-1 input.sk-hidden--visually {border: 0;clip: rect(1px 1px 1px 1px);clip: rect(1px, 1px, 1px, 1px);height: 1px;margin: -1px;overflow: hidden;padding: 0;position: absolute;width: 1px;}#sk-container-id-1 div.sk-estimator {font-family: monospace;background-color: #f0f8ff;border: 1px dotted black;border-radius: 0.25em;box-sizing: border-box;margin-bottom: 0.5em;}#sk-container-id-1 div.sk-estimator:hover {background-color: #d4ebff;}#sk-container-id-1 div.sk-parallel-item::after {content: \"\";width: 100%;border-bottom: 1px solid gray;flex-grow: 1;}#sk-container-id-1 div.sk-label:hover label.sk-toggleable__label {background-color: #d4ebff;}#sk-container-id-1 div.sk-serial::before {content: \"\";position: absolute;border-left: 1px solid gray;box-sizing: border-box;top: 0;bottom: 0;left: 50%;z-index: 0;}#sk-container-id-1 div.sk-serial {display: flex;flex-direction: column;align-items: center;background-color: white;padding-right: 0.2em;padding-left: 0.2em;position: relative;}#sk-container-id-1 div.sk-item {position: relative;z-index: 1;}#sk-container-id-1 div.sk-parallel {display: flex;align-items: stretch;justify-content: center;background-color: white;position: relative;}#sk-container-id-1 div.sk-item::before, #sk-container-id-1 div.sk-parallel-item::before {content: \"\";position: absolute;border-left: 1px solid gray;box-sizing: border-box;top: 0;bottom: 0;left: 50%;z-index: -1;}#sk-container-id-1 div.sk-parallel-item {display: flex;flex-direction: column;z-index: 1;position: relative;background-color: white;}#sk-container-id-1 div.sk-parallel-item:first-child::after {align-self: flex-end;width: 50%;}#sk-container-id-1 div.sk-parallel-item:last-child::after {align-self: flex-start;width: 50%;}#sk-container-id-1 div.sk-parallel-item:only-child::after {width: 0;}#sk-container-id-1 div.sk-dashed-wrapped {border: 1px dashed gray;margin: 0 0.4em 0.5em 0.4em;box-sizing: border-box;padding-bottom: 0.4em;background-color: white;}#sk-container-id-1 div.sk-label label {font-family: monospace;font-weight: bold;display: inline-block;line-height: 1.2em;}#sk-container-id-1 div.sk-label-container {text-align: center;}#sk-container-id-1 div.sk-container {/* jupyter's `normalize.less` sets `[hidden] { display: none; }` but bootstrap.min.css set `[hidden] { display: none !important; }` so we also need the `!important` here to be able to override the default hidden behavior on the sphinx rendered scikit-learn.org. See: https://github.com/scikit-learn/scikit-learn/issues/21755 */display: inline-block !important;position: relative;}#sk-container-id-1 div.sk-text-repr-fallback {display: none;}</style><div id=\"sk-container-id-1\" class=\"sk-top-container\"><div class=\"sk-text-repr-fallback\"><pre>RandomForestClassifier(n_estimators=1000)</pre><b>In a Jupyter environment, please rerun this cell to show the HTML representation or trust the notebook. <br />On GitHub, the HTML representation is unable to render, please try loading this page with nbviewer.org.</b></div><div class=\"sk-container\" hidden><div class=\"sk-item\"><div class=\"sk-estimator sk-toggleable\"><input class=\"sk-toggleable__control sk-hidden--visually\" id=\"sk-estimator-id-1\" type=\"checkbox\" checked><label for=\"sk-estimator-id-1\" class=\"sk-toggleable__label sk-toggleable__label-arrow\">RandomForestClassifier</label><div class=\"sk-toggleable__content\"><pre>RandomForestClassifier(n_estimators=1000)</pre></div></div></div></div></div>"
      ],
      "text/plain": [
       "RandomForestClassifier(n_estimators=1000)"
      ]
     },
     "execution_count": 19,
     "metadata": {},
     "output_type": "execute_result"
    }
   ],
   "source": [
    "from sklearn.ensemble import GradientBoostingClassifier\n",
    "from sklearn.ensemble import RandomForestClassifier\n",
    "\n",
    "# Предсказатель настоящести текстов\n",
    "classifier_1 = RandomForestClassifier(n_estimators=1000)\n",
    "\n",
    "classifier_1.fit(X1,y1)\n",
    "\n",
    "# Предсказатель какой из текстов настоящий\n",
    "classifier_2 = RandomForestClassifier(n_estimators=1000)\n",
    "classifier_2.fit(X2,y2)"
   ]
  },
  {
   "cell_type": "code",
   "execution_count": 28,
   "id": "aa59732f",
   "metadata": {},
   "outputs": [],
   "source": [
    "# Обработка для теста\n",
    "\n",
    "data_dir = Path(test_path)\n",
    "all_data = {}\n",
    "\n",
    "for txt_file in data_dir.rglob(\"*.txt\"):\n",
    "    text_path = str(txt_file)\n",
    "    # Вычленение из пути файла номера папки в которой хранится файл и номера текста (1 или 2)\n",
    "    # Пример text_path : /kaggle/input/fake-or-real-the-impostor-hunt/data/train/article_0026/file_2.txt\n",
    "    folder_num = int(text_path[text_path.find('article_') + 8 : text_path.find('article_') + 12])\n",
    "    file_num = int(text_path[text_path.find('file_') + 5 : text_path.find('file_') + 6])\n",
    "\n",
    "    content = txt_file.read_text(encoding='utf-8')\n",
    "\n",
    "    if folder_num in all_data:\n",
    "        all_data[folder_num][file_num] = content\n",
    "    else:\n",
    "        all_data[folder_num] = {file_num : content}\n",
    "\n",
    "marks = pd.read_csv(train_marks, index_col='id')\n",
    "\n",
    "preds = []\n",
    "\n",
    "for folder_num, textes_dict in all_data.items():\n",
    "    text1 = textes_dict[1]\n",
    "    text2 = textes_dict[2]\n",
    "    \n",
    "    input1 = tokenizer(text1, return_tensors = 'pt', padding=True, truncation=True, max_length=512).to(device)\n",
    "    input2 = tokenizer(text2, return_tensors = 'pt', padding=True, truncation=True, max_length=512).to(device)\n",
    "\n",
    "    with torch.no_grad():\n",
    "        output1 = bert_model(**input1)\n",
    "        output2 = bert_model(**input2)\n",
    "\n",
    "    cls_emb1 = output1.last_hidden_state[0,0,:].cpu().numpy()\n",
    "    cls_emb2 = output2.last_hidden_state[0,0,:].cpu().numpy()\n",
    "\n",
    "    # Смотрим на настоящесть текстов\n",
    "    text1_true_prob = classifier_1.predict_proba(cls_emb1.reshape(1,-1))[0][1]\n",
    "    text2_true_prob = classifier_1.predict_proba(cls_emb2.reshape(1,-1))[0][1]\n",
    "\n",
    "    # Предсказываем какой из текстов настоящий\n",
    "    dif_feature = cls_emb1 - cls_emb2\n",
    "    pred = classifier_2.predict_proba(dif_feature.reshape(1,-1))[0]\n",
    "\n",
    "    # Суммируем предсказания моделей\n",
    "    pred += np.array([text1_true_prob, text2_true_prob])\n",
    "\n",
    "    if pred[0] > pred[1]:\n",
    "        preds.append(1)\n",
    "    else:\n",
    "        preds.append(2)\n",
    "    "
   ]
  },
  {
   "cell_type": "code",
   "execution_count": 29,
   "id": "54eeeef5",
   "metadata": {},
   "outputs": [],
   "source": [
    "submission = pd.DataFrame({'id' : all_data.keys(), 'real_text_id' : preds})\n",
    "submission.to_csv('/kaggle/working/output.csv', index = False)"
   ]
  }
 ],
 "metadata": {
  "kernelspec": {
   "display_name": "Python 3 (ipykernel)",
   "language": "python",
   "name": "python3"
  }
 },
 "nbformat": 4,
 "nbformat_minor": 5
}
