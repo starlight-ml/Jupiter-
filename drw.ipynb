{
 "cells": [
  {
   "cell_type": "code",
   "execution_count": 1,
   "id": "f3c3be9c",
   "metadata": {},
   "outputs": [],
   "source": [
    "from sklearn.model_selection import KFold, train_test_split\n",
    "from sklearn.linear_model import Ridge\n",
    "from scipy.stats import pearsonr as pr\n",
    "from sklearn.base import clone\n",
    "import matplotlib.pyplot as plt\n",
    "import pandas as pd\n",
    "import numpy as np\n",
    "import warnings \n",
    "from sklearn.preprocessing import StandardScaler\n",
    "from sklearn.decomposition import PCA\n",
    "\n",
    "warnings.filterwarnings(\"ignore\")"
   ]
  },
  {
   "cell_type": "code",
   "execution_count": 2,
   "id": "1420cee9",
   "metadata": {},
   "outputs": [],
   "source": [
    "class CFG:\n",
    "    train_path = \"/kaggle/input/drw-crypto-market-prediction/train.parquet\"\n",
    "    test_path = \"/kaggle/input/drw-crypto-market-prediction/test.parquet\"\n",
    "    sample_sub_path = \"/kaggle/input/drw-crypto-market-prediction/sample_submission.csv\"\n",
    "    target = \"label\""
   ]
  },
  {
   "cell_type": "code",
   "execution_count": 3,
   "id": "7bc492a0",
   "metadata": {},
   "outputs": [],
   "source": [
    "train = pd.read_parquet(CFG.train_path).reset_index(drop=True)\n",
    "test = pd.read_parquet(CFG.test_path).reset_index(drop=True)"
   ]
  },
  {
   "cell_type": "code",
   "execution_count": 4,
   "id": "dea9fe33",
   "metadata": {},
   "outputs": [
    {
     "data": {
      "text/plain": [
       "bid_qty     0\n",
       "ask_qty     0\n",
       "buy_qty     0\n",
       "sell_qty    0\n",
       "volume      0\n",
       "           ..\n",
       "X777        0\n",
       "X778        0\n",
       "X779        0\n",
       "X780        0\n",
       "label       0\n",
       "Length: 786, dtype: int64"
      ]
     },
     "execution_count": 4,
     "metadata": {},
     "output_type": "execute_result"
    }
   ],
   "source": [
    "train.isna().sum()"
   ]
  },
  {
   "cell_type": "code",
   "execution_count": 5,
   "id": "61cc8a19",
   "metadata": {},
   "outputs": [],
   "source": [
    "def data_processing(data):\n",
    "    X = data.drop(CFG.target, axis=1)\n",
    "    y = data[CFG.target]\n",
    "\n",
    "    return X,y"
   ]
  },
  {
   "cell_type": "code",
   "execution_count": 6,
   "id": "29060c1e",
   "metadata": {},
   "outputs": [],
   "source": [
    "train_X, train_y = data_processing(train)\n",
    "test_X, test_y = data_processing(test)"
   ]
  },
  {
   "cell_type": "code",
   "execution_count": 7,
   "id": "bbfca46c",
   "metadata": {},
   "outputs": [],
   "source": [
    "# Стандартизируем данные\n",
    "scaler = StandardScaler()\n",
    "# Применяем стандартное масштабирование к обучающим данным\n",
    "train_X = scaler.fit_transform(train_X)\n",
    "test_X = scaler.transform(test_X)"
   ]
  },
  {
   "cell_type": "code",
   "execution_count": 8,
   "id": "921a93ba",
   "metadata": {},
   "outputs": [],
   "source": [
    "# Инициализируем PCA\n",
    "pca = PCA(n_components=30)\n",
    "\n",
    "# Обучаем PCA на тренировочных данных\n",
    "train_X = pca.fit_transform(train_X)\n"
   ]
  },
  {
   "cell_type": "code",
   "execution_count": 9,
   "id": "f48a4571",
   "metadata": {},
   "outputs": [],
   "source": [
    "test_X = pca.transform(test_X)"
   ]
  },
  {
   "cell_type": "code",
   "execution_count": 10,
   "id": "da4b372a",
   "metadata": {},
   "outputs": [],
   "source": [
    "# features: {feature_name: feature}\n",
    "features = {}\n",
    "\n",
    "for feature_idx in range(train_X.shape[1]):\n",
    "    sub_features = {\n",
    "        # f'{feature_idx} + _ln' : np.log(train_X[:,feature_idx]),\n",
    "        f'{feature_idx} + _x^2' : np.power(train_X[:,feature_idx],2),\n",
    "        f'{feature_idx} + _x^3' : np.power(train_X[:,feature_idx],3)\n",
    "    }\n",
    "    for name, feature in sub_features.items():\n",
    "        features[name] = feature\n",
    "    \n",
    "for feature1_idx in range(train_X.shape[1] - 1):\n",
    "    for feature2_idx in range(feature1_idx + 1, train_X.shape[1]):\n",
    "        name = f'{feature1_idx} * {feature2_idx}'\n",
    "        feature = train_X[:,feature1_idx] * train_X[:,feature2_idx]\n",
    "        features[name] = feature\n",
    "\n",
    "matrix_for_feature_selection = np.zeros((len(train_X),len(features)))\n",
    "\n",
    "for y, feature in enumerate(features.values()):\n",
    "    matrix_for_feature_selection[:,y] = feature"
   ]
  },
  {
   "cell_type": "code",
   "execution_count": 11,
   "id": "6098b833",
   "metadata": {},
   "outputs": [
    {
     "name": "stdout",
     "output_type": "stream",
     "text": [
      "[2025-07-20 10:59:20.273] [CUML] [info] cuML: Installed accelerator for sklearn.\n"
     ]
    },
    {
     "name": "stderr",
     "output_type": "stream",
     "text": [
      "2025-07-20 10:59:27.015003: E external/local_xla/xla/stream_executor/cuda/cuda_fft.cc:477] Unable to register cuFFT factory: Attempting to register factory for plugin cuFFT when one has already been registered\n",
      "WARNING: All log messages before absl::InitializeLog() is called are written to STDERR\n",
      "E0000 00:00:1753009167.214333     135 cuda_dnn.cc:8310] Unable to register cuDNN factory: Attempting to register factory for plugin cuDNN when one has already been registered\n",
      "E0000 00:00:1753009167.273036     135 cuda_blas.cc:1418] Unable to register cuBLAS factory: Attempting to register factory for plugin cuBLAS when one has already been registered\n"
     ]
    },
    {
     "name": "stdout",
     "output_type": "stream",
     "text": [
      "[2025-07-20 10:59:36.988] [CUML] [info] cuML: Installed accelerator for umap.\n",
      "[2025-07-20 10:59:37.028] [CUML] [info] cuML: Installed accelerator for hdbscan.\n",
      "[2025-07-20 10:59:37.028] [CUML] [info] cuML: Successfully initialized accelerator.\n"
     ]
    }
   ],
   "source": [
    "%load_ext cuml.accel"
   ]
  },
  {
   "cell_type": "code",
   "execution_count": 12,
   "id": "4b475650",
   "metadata": {},
   "outputs": [
    {
     "name": "stdout",
     "output_type": "stream",
     "text": [
      "Collecting cuml\n",
      "  Using cached cuml-0.6.1.post1.tar.gz (1.1 kB)\n",
      "  Preparing metadata (setup.py) ... \u001b[?25l\u001b[?25hdone\n",
      "Building wheels for collected packages: cuml\n",
      "  Building wheel for cuml (setup.py) ... \u001b[?25l  \u001b[1;31merror\u001b[0m: \u001b[1msubprocess-exited-with-error\u001b[0m\n",
      "  \n",
      "  \u001b[31m×\u001b[0m \u001b[32mpython setup.py bdist_wheel\u001b[0m did not run successfully.\n",
      "  \u001b[31m│\u001b[0m exit code: \u001b[1;36m1\u001b[0m\n",
      "  \u001b[31m╰─>\u001b[0m See above for output.\n",
      "  \n",
      "  \u001b[1;35mnote\u001b[0m: This error originates from a subprocess, and is likely not a problem with pip.\n",
      "error\n",
      "\u001b[31m  ERROR: Failed building wheel for cuml\u001b[0m\u001b[31m\n",
      "\u001b[0m\u001b[?25h  Running setup.py clean for cuml\n",
      "Failed to build cuml\n",
      "\u001b[31mERROR: ERROR: Failed to build installable wheels for some pyproject.toml based projects (cuml)\u001b[0m\u001b[31m\n",
      "\u001b[0mNote: you may need to restart the kernel to use updated packages.\n"
     ]
    }
   ],
   "source": [
    "%pip install --upgrade cuml "
   ]
  },
  {
   "cell_type": "code",
   "execution_count": null,
   "id": "cc3feb2c",
   "metadata": {},
   "outputs": [
    {
     "ename": "ModuleNotFoundError",
     "evalue": "No module named 'cuml.feature_selection'",
     "output_type": "error",
     "traceback": [
      "\u001b[0;31m---------------------------------------------------------------------------\u001b[0m",
      "\u001b[0;31mModuleNotFoundError\u001b[0m                       Traceback (most recent call last)",
      "\u001b[0;32m/tmp/ipykernel_135/3697907055.py\u001b[0m in \u001b[0;36m<cell line: 0>\u001b[0;34m()\u001b[0m\n\u001b[1;32m      1\u001b[0m \u001b[0;32mimport\u001b[0m \u001b[0mcuml\u001b[0m\u001b[0;34m\u001b[0m\u001b[0;34m\u001b[0m\u001b[0m\n\u001b[0;32m----> 2\u001b[0;31m \u001b[0;32mfrom\u001b[0m \u001b[0mcuml\u001b[0m\u001b[0;34m.\u001b[0m\u001b[0mfeature_selection\u001b[0m \u001b[0;32mimport\u001b[0m \u001b[0mmutual_info_classif\u001b[0m \u001b[0;32mas\u001b[0m \u001b[0mcuml_mi\u001b[0m\u001b[0;34m\u001b[0m\u001b[0;34m\u001b[0m\u001b[0m\n\u001b[0m\u001b[1;32m      3\u001b[0m \u001b[0;32mimport\u001b[0m \u001b[0mcupy\u001b[0m \u001b[0;32mas\u001b[0m \u001b[0mcp\u001b[0m\u001b[0;34m\u001b[0m\u001b[0;34m\u001b[0m\u001b[0m\n\u001b[1;32m      4\u001b[0m \u001b[0;32mimport\u001b[0m \u001b[0mnumpy\u001b[0m \u001b[0;32mas\u001b[0m \u001b[0mnp\u001b[0m\u001b[0;34m\u001b[0m\u001b[0;34m\u001b[0m\u001b[0m\n\u001b[1;32m      5\u001b[0m \u001b[0;34m\u001b[0m\u001b[0m\n",
      "\u001b[0;31mModuleNotFoundError\u001b[0m: No module named 'cuml.feature_selection'"
     ]
    }
   ],
   "source": [
    "from sklearn.feature_selection import mutual_info_classif\n",
    "\n",
    "# Преобразование данных в формат GPU (cuDF или CuPy)\n",
    "import cupy as cp\n",
    "X_gpu = cp.asarray(train_X)  # Ваши данные\n",
    "y_gpu = cp.asarray(train_y)   # Целевые метки\n",
    "\n",
    "# Вычисление mutual information (автоматически на GPU)\n",
    "mi_scores = mutual_info_classif(X_gpu, y_gpu, n_neighbors=3)\n",
    "print(\"Mutual Information Scores:\", mi_scores)"
   ]
  }
 ],
 "metadata": {
  "kernelspec": {
   "display_name": "Python 3 (ipykernel)",
   "language": "python",
   "name": "python3"
  },
  "language_info": {
   "codemirror_mode": {
    "name": "ipython",
    "version": 3
   },
   "file_extension": ".py",
   "mimetype": "text/x-python",
   "name": "python",
   "nbconvert_exporter": "python",
   "pygments_lexer": "ipython3",
   "version": "3.11.13"
  }
 },
 "nbformat": 4,
 "nbformat_minor": 5
}
